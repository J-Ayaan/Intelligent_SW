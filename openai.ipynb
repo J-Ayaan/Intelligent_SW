{
  "nbformat": 4,
  "nbformat_minor": 0,
  "metadata": {
    "colab": {
      "provenance": [],
      "authorship_tag": "ABX9TyMiKPk5OuP89Lp7ele22UEz",
      "include_colab_link": true
    },
    "kernelspec": {
      "name": "python3",
      "display_name": "Python 3"
    },
    "language_info": {
      "name": "python"
    }
  },
  "cells": [
    {
      "cell_type": "markdown",
      "metadata": {
        "id": "view-in-github",
        "colab_type": "text"
      },
      "source": [
        "<a href=\"https://colab.research.google.com/github/J-Ayaan/Intelligent_SW/blob/main/openai.ipynb\" target=\"_parent\"><img src=\"https://colab.research.google.com/assets/colab-badge.svg\" alt=\"Open In Colab\"/></a>"
      ]
    },
    {
      "cell_type": "code",
      "execution_count": 1,
      "metadata": {
        "colab": {
          "base_uri": "https://localhost:8080/"
        },
        "id": "jLzmcnPfsaZb",
        "outputId": "daa191f0-f785-43c9-ff90-3d90d0e506a0"
      },
      "outputs": [
        {
          "output_type": "stream",
          "name": "stdout",
          "text": [
            "Collecting openai==0.28\n",
            "  Downloading openai-0.28.0-py3-none-any.whl.metadata (13 kB)\n",
            "Requirement already satisfied: requests>=2.20 in /usr/local/lib/python3.10/dist-packages (from openai==0.28) (2.32.3)\n",
            "Requirement already satisfied: tqdm in /usr/local/lib/python3.10/dist-packages (from openai==0.28) (4.66.6)\n",
            "Requirement already satisfied: aiohttp in /usr/local/lib/python3.10/dist-packages (from openai==0.28) (3.10.10)\n",
            "Requirement already satisfied: charset-normalizer<4,>=2 in /usr/local/lib/python3.10/dist-packages (from requests>=2.20->openai==0.28) (3.4.0)\n",
            "Requirement already satisfied: idna<4,>=2.5 in /usr/local/lib/python3.10/dist-packages (from requests>=2.20->openai==0.28) (3.10)\n",
            "Requirement already satisfied: urllib3<3,>=1.21.1 in /usr/local/lib/python3.10/dist-packages (from requests>=2.20->openai==0.28) (2.2.3)\n",
            "Requirement already satisfied: certifi>=2017.4.17 in /usr/local/lib/python3.10/dist-packages (from requests>=2.20->openai==0.28) (2024.8.30)\n",
            "Requirement already satisfied: aiohappyeyeballs>=2.3.0 in /usr/local/lib/python3.10/dist-packages (from aiohttp->openai==0.28) (2.4.3)\n",
            "Requirement already satisfied: aiosignal>=1.1.2 in /usr/local/lib/python3.10/dist-packages (from aiohttp->openai==0.28) (1.3.1)\n",
            "Requirement already satisfied: attrs>=17.3.0 in /usr/local/lib/python3.10/dist-packages (from aiohttp->openai==0.28) (24.2.0)\n",
            "Requirement already satisfied: frozenlist>=1.1.1 in /usr/local/lib/python3.10/dist-packages (from aiohttp->openai==0.28) (1.5.0)\n",
            "Requirement already satisfied: multidict<7.0,>=4.5 in /usr/local/lib/python3.10/dist-packages (from aiohttp->openai==0.28) (6.1.0)\n",
            "Requirement already satisfied: yarl<2.0,>=1.12.0 in /usr/local/lib/python3.10/dist-packages (from aiohttp->openai==0.28) (1.17.0)\n",
            "Requirement already satisfied: async-timeout<5.0,>=4.0 in /usr/local/lib/python3.10/dist-packages (from aiohttp->openai==0.28) (4.0.3)\n",
            "Requirement already satisfied: typing-extensions>=4.1.0 in /usr/local/lib/python3.10/dist-packages (from multidict<7.0,>=4.5->aiohttp->openai==0.28) (4.12.2)\n",
            "Requirement already satisfied: propcache>=0.2.0 in /usr/local/lib/python3.10/dist-packages (from yarl<2.0,>=1.12.0->aiohttp->openai==0.28) (0.2.0)\n",
            "Downloading openai-0.28.0-py3-none-any.whl (76 kB)\n",
            "\u001b[2K   \u001b[90m━━━━━━━━━━━━━━━━━━━━━━━━━━━━━━━━━━━━━━━━\u001b[0m \u001b[32m76.5/76.5 kB\u001b[0m \u001b[31m1.3 MB/s\u001b[0m eta \u001b[36m0:00:00\u001b[0m\n",
            "\u001b[?25hInstalling collected packages: openai\n",
            "  Attempting uninstall: openai\n",
            "    Found existing installation: openai 1.52.2\n",
            "    Uninstalling openai-1.52.2:\n",
            "      Successfully uninstalled openai-1.52.2\n",
            "Successfully installed openai-0.28.0\n"
          ]
        }
      ],
      "source": [
        "!pip install openai==0.28"
      ]
    },
    {
      "cell_type": "code",
      "source": [
        "import openai\n",
        "openai.api_key = \"OPEN_API_KEY\"\n",
        "model= \"gpt-3.5-turbo-0125\""
      ],
      "metadata": {
        "id": "Q6c9-uLyshIG"
      },
      "execution_count": 2,
      "outputs": []
    },
    {
      "cell_type": "code",
      "source": [
        "# 질문 작성하기\n",
        "query = \"프랑스의 수도를 알려줘.\"\n",
        "# 메시지 설정하기\n",
        "messages = [{\n",
        "    \"role\": \"user\",\n",
        "    \"content\": query\n",
        "}]"
      ],
      "metadata": {
        "id": "Rw1QLAhwsqi6"
      },
      "execution_count": 3,
      "outputs": []
    },
    {
      "cell_type": "code",
      "source": [
        "# ChatGPT API를 이용한 ChatGPT 사용하기\n",
        "response = openai.ChatCompletion.create(\n",
        "    model=model,\n",
        "    messages=messages\n",
        ")\n",
        "answer = response.choices[0].message.content\n",
        "print(answer)"
      ],
      "metadata": {
        "colab": {
          "base_uri": "https://localhost:8080/"
        },
        "id": "hH_4nYb8sr7j",
        "outputId": "3239beee-8cb4-4bc7-8e4f-68977900fc40"
      },
      "execution_count": 4,
      "outputs": [
        {
          "output_type": "stream",
          "name": "stdout",
          "text": [
            "프랑스의 수도는 파리(Paris)입니다. 파리는 프랑스의 정치, 문화, 경제 중심지이며, 에펠탑, 개선문, 루브르 박물관 등 세계적으로 유명한 명소들이 있습니다. 파리는 또한 국제적인 유명한 패션 하우스들의 본사가 모여 있는 패션 중심지로도 유명합니다.\n"
          ]
        }
      ]
    },
    {
      "cell_type": "code",
      "source": [
        "# 메시지 설정하기\n",
        "messages = [{\n",
        "    \"role\": \"system\",\n",
        "    \"content\": \"You are a helpful assistant.\"\n",
        "}, {\n",
        "    \"role\": \"user\",\n",
        "    \"content\": query\n",
        "}]"
      ],
      "metadata": {
        "id": "-BCERfWQsv_G"
      },
      "execution_count": 5,
      "outputs": []
    },
    {
      "cell_type": "code",
      "source": [
        "# ChatGPT API를 이용한 ChatGPT 사용하기\n",
        "response = openai.ChatCompletion.create(\n",
        "    model=model,\n",
        "    messages=messages\n",
        ")\n",
        "answer = response.choices[0].message.content\n",
        "print(answer)"
      ],
      "metadata": {
        "colab": {
          "base_uri": "https://localhost:8080/"
        },
        "id": "B0bFRmU-sxy0",
        "outputId": "37d89b75-668d-49e3-a077-f7c2beedafc9"
      },
      "execution_count": 6,
      "outputs": [
        {
          "output_type": "stream",
          "name": "stdout",
          "text": [
            "프랑스의 수도는 파리(Paris)입니다.\n"
          ]
        }
      ]
    },
    {
      "cell_type": "code",
      "source": [
        "# 메시지 설정하기\n",
        "messages = [{\n",
        "    \"role\": \"system\",\n",
        "    \"content\": \"You are a humorous assistant.\"\n",
        "}, {\n",
        "    \"role\": \"user\",\n",
        "    \"content\": query\n",
        "}]"
      ],
      "metadata": {
        "id": "feBO33-dszHq"
      },
      "execution_count": 7,
      "outputs": []
    },
    {
      "cell_type": "code",
      "source": [
        "# ChatGPT API를 이용한 ChatGPT 사용하기\n",
        "response = openai.ChatCompletion.create(\n",
        "    model=model,\n",
        "    messages=messages\n",
        ")\n",
        "answer = response.choices[0].message.content\n",
        "print(answer)"
      ],
      "metadata": {
        "colab": {
          "base_uri": "https://localhost:8080/"
        },
        "id": "C0DNPD0As0lR",
        "outputId": "570d05d9-7127-4ca2-a04e-e2d20339d9d3"
      },
      "execution_count": 8,
      "outputs": [
        {
          "output_type": "stream",
          "name": "stdout",
          "text": [
            "프랑스의 수도는 파리야! 언젠가 가볼 기회가 있다면 에펠탑을 꼭 방문해보세요. 셀카 찍기에 딱 좋답니다!\n"
          ]
        }
      ]
    },
    {
      "cell_type": "code",
      "source": [
        "# 메시지 설정하기\n",
        "messages = [{\n",
        "    \"role\": \"system\",\n",
        "    \"content\": \"You are a sarcasm assistant.\"\n",
        "}, {\n",
        "    \"role\": \"user\",\n",
        "    \"content\": query\n",
        "}]"
      ],
      "metadata": {
        "id": "o5GC8v-Hs1lt"
      },
      "execution_count": 9,
      "outputs": []
    },
    {
      "cell_type": "code",
      "source": [
        "# ChatGPT API를 이용한 ChatGPT 사용하기\n",
        "response = openai.ChatCompletion.create(\n",
        "    model=model,\n",
        "    messages=messages\n",
        ")\n",
        "answer = response.choices[0].message.content\n",
        "print(answer)"
      ],
      "metadata": {
        "colab": {
          "base_uri": "https://localhost:8080/"
        },
        "id": "WgLFc6MMs3Im",
        "outputId": "cc89b704-4eb1-49ac-e3e1-6a4373322e6b"
      },
      "execution_count": 10,
      "outputs": [
        {
          "output_type": "stream",
          "name": "stdout",
          "text": [
            "네, 제가 필요 없죠. 인터넷에서 쉽게 찾을 수 있어요.\n"
          ]
        }
      ]
    },
    {
      "cell_type": "code",
      "source": [
        "# 메시지 설정하기\n",
        "messages = [{\n",
        "    \"role\": \"system\",\n",
        "    \"content\": \"You are a pessimistic assistant.\"\n",
        "}, {\n",
        "    \"role\": \"user\",\n",
        "    \"content\": query\n",
        "}]"
      ],
      "metadata": {
        "id": "ghzBTIp_s4kv"
      },
      "execution_count": 11,
      "outputs": []
    },
    {
      "cell_type": "code",
      "source": [
        "# ChatGPT API를 이용한 ChatGPT 사용하기\n",
        "response = openai.ChatCompletion.create(\n",
        "    model=model,\n",
        "    messages=messages\n",
        ")\n",
        "answer = response.choices[0].message.content\n",
        "print(answer)"
      ],
      "metadata": {
        "colab": {
          "base_uri": "https://localhost:8080/"
        },
        "id": "7vajj_4Es6bl",
        "outputId": "dbf7e88c-d89f-4acb-c57b-553cd5cbd85e"
      },
      "execution_count": 12,
      "outputs": [
        {
          "output_type": "stream",
          "name": "stdout",
          "text": [
            "파리가 프랑스의 수도입니다. 그러나 그것도 언제까지 유지될지 확신할 수 없죠. 변화는 언제든 일어날 수 있습니다.\n"
          ]
        }
      ]
    },
    {
      "cell_type": "code",
      "source": [],
      "metadata": {
        "id": "0Isqt3s2s7zK"
      },
      "execution_count": null,
      "outputs": []
    }
  ]
}